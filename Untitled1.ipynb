{
 "cells": [
  {
   "cell_type": "markdown",
   "id": "c9e30926-7da4-4253-b0db-f288138d409b",
   "metadata": {},
   "source": [
    "My Jupyter Notebook on Watson Studio\n",
    "===================================="
   ]
  },
  {
   "cell_type": "markdown",
   "id": "43f22e2c-5eca-4358-979d-c176c8145e66",
   "metadata": {},
   "source": [
    "**Aarthi Kumar** \n",
    "Student"
   ]
  },
  {
   "cell_type": "markdown",
   "id": "b81cf1f3-fef7-4c27-a447-8f3d65236fdc",
   "metadata": {},
   "source": [
    "*I am interested in Data Science because its a powerful tool to solve your problems and its scalable*"
   ]
  },
  {
   "cell_type": "markdown",
   "id": "3dda1529-a118-421e-8aa5-130c962dcf61",
   "metadata": {},
   "source": [
    "### This code explains the addition and subtraction of two numbers"
   ]
  },
  {
   "cell_type": "code",
   "execution_count": 1,
   "id": "4334bd43-5c3c-48f1-ba27-d8faea12f732",
   "metadata": {},
   "outputs": [
    {
     "name": "stdout",
     "output_type": "stream",
     "text": [
      "15\n",
      "5\n"
     ]
    }
   ],
   "source": [
    "x = 10\n",
    "y = 5\n",
    "a = print(x+y)\n",
    "b = print(x-y)"
   ]
  },
  {
   "cell_type": "markdown",
   "id": "9f76277e-8acd-4136-85b1-08345ae36e0b",
   "metadata": {},
   "source": [
    "1. Python\n",
    "2. Scala\n",
    "3. R\n",
    "4. Java\n",
    "5. Javascript\n",
    "<a href = \"https://www.ibm.com/products\"> IBM Products </a>\n",
    "~~Strike out this line~~"
   ]
  },
  {
   "cell_type": "code",
   "execution_count": null,
   "id": "b2eeada1-23c9-4984-9494-8839f6e59989",
   "metadata": {},
   "outputs": [],
   "source": []
  }
 ],
 "metadata": {
  "kernelspec": {
   "display_name": "Python",
   "language": "python",
   "name": "conda-env-python-py"
  },
  "language_info": {
   "codemirror_mode": {
    "name": "ipython",
    "version": 3
   },
   "file_extension": ".py",
   "mimetype": "text/x-python",
   "name": "python",
   "nbconvert_exporter": "python",
   "pygments_lexer": "ipython3",
   "version": "3.7.12"
  }
 },
 "nbformat": 4,
 "nbformat_minor": 5
}
